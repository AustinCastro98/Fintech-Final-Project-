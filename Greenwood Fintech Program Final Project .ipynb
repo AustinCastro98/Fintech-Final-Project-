{
 "cells": [
  {
   "cell_type": "markdown",
   "metadata": {},
   "source": [
    "# Welcome to the final project for the Greenwood Fintech Program.\n",
    "As mentioned in the instructions pdf, you'll be creating a program that manages your income. \n",
    "The two packages that we will be using are Matplotlib and Pandas. \n",
    "This notebook will take you step-by-step on creating your first income manager script. \n"
   ]
  },
  {
   "cell_type": "markdown",
   "metadata": {},
   "source": [
    "First you want to import all the libraries you will be using within your program. "
   ]
  },
  {
   "cell_type": "code",
   "execution_count": null,
   "metadata": {},
   "outputs": [],
   "source": [
    "#ex: import matplotlib.pyplot as plt "
   ]
  },
  {
   "cell_type": "markdown",
   "metadata": {},
   "source": [
    "Secondly, you will need to clean your data. \n",
    "For this step we will be using both Google Sheets and Python Pandas. \n",
    "However, before we get started coding we want to make sure we do most of our cleaning in Google Sheets.\n",
    "Once this step is completed, you can start by importing the .csv file (comma seperated values). "
   ]
  },
  {
   "cell_type": "code",
   "execution_count": null,
   "metadata": {},
   "outputs": [],
   "source": [
    "# ex: df = pd.read_csv('Your bank statement.csv')\n",
    "# ex: df = pd.read_excel('Your bank statement.xlsx')"
   ]
  },
  {
   "cell_type": "markdown",
   "metadata": {},
   "source": [
    "Next, drop any columns that are deemed insignificant. Note that this can be done in multiple ways, not just the way listed below.  "
   ]
  },
  {
   "cell_type": "code",
   "execution_count": null,
   "metadata": {},
   "outputs": [],
   "source": [
    "#ex: df.drop(columns = ['Dates'], inplace = True)"
   ]
  },
  {
   "cell_type": "markdown",
   "metadata": {},
   "source": [
    "Once you have dropped columns, drop all cells marked NaN (not a number) or blank cells within the df['Amount'] or df['balance'] column. "
   ]
  },
  {
   "cell_type": "code",
   "execution_count": null,
   "metadata": {},
   "outputs": [],
   "source": [
    "#ex: df.dropna() "
   ]
  },
  {
   "cell_type": "markdown",
   "metadata": {},
   "source": [
    "Next, create a empty column labeled 'Category'. "
   ]
  },
  {
   "cell_type": "code",
   "execution_count": null,
   "metadata": {},
   "outputs": [],
   "source": [
    "#df['My Column'] = 'Somthing'"
   ]
  },
  {
   "cell_type": "markdown",
   "metadata": {},
   "source": [
    "Now rearrange the order of your column names in alphabetical order. "
   ]
  },
  {
   "cell_type": "code",
   "execution_count": null,
   "metadata": {},
   "outputs": [],
   "source": [
    "#df.sort_index "
   ]
  },
  {
   "cell_type": "markdown",
   "metadata": {},
   "source": [
    "Next we can start by adding information to our 'Catagory' dataframe. We start this by creating a list of our different catagories, then adding our descriptions to whichever category they fall under. "
   ]
  },
  {
   "cell_type": "code",
   "execution_count": null,
   "metadata": {},
   "outputs": [],
   "source": [
    "#ex: \n",
    "Food = ['TACO BELL','PIZZA HUT',\"MICKEY D'S\",\"SHARKS\",\"WHITECASTLE\",\"BK HAVE IT YO WAY\",\"BIG DADDYS BBQ\"] \n",
    "Shoppping = ['AIR GORDAN 11 GALAXY PHLOWS','BUCCI','ROCKSTAR REVIVALS','AIR GORDAN JELLY JAM 5'] \n",
    "Investments = ['401K','ROTHIra','STOCKS','BONDS','OPTIONS'] \n",
    "miscellaneous = ['HAIRCUT','ATM FEE'] \n",
    "school = [\"DON'T BUY BOOKS\",'PENCIL'.'PAPER','LUNCHBOX','PROTRACTOR','COMPASS','DEODORANT','TOOTHPASTE'] "
   ]
  },
  {
   "cell_type": "markdown",
   "metadata": {},
   "source": [
    "Next, using iterators and conditional statements we will add our categories to the 'Category' column.\n",
    "We also will be using df.iloc(integer location) which is a attribute that returns a specefic location of a value in the dataframe. df.iloc[row,col]  "
   ]
  },
  {
   "cell_type": "code",
   "execution_count": null,
   "metadata": {},
   "outputs": [],
   "source": [
    "#ex\n",
    "for i in range(len(df['Description'])): \n",
    "    if df.iloc[i,3] in Food:\n",
    "        df.iloc[i,2] = 'Food'\n",
    "    elif df.iloc[i, 3] in Shopping:\n",
    "        df.iloc[i, 2] = 'Shopping'"
   ]
  },
  {
   "cell_type": "markdown",
   "metadata": {},
   "source": [
    "To complete our dataframe we need to print it and make sure everything looks accordingly. "
   ]
  },
  {
   "cell_type": "code",
   "execution_count": null,
   "metadata": {},
   "outputs": [],
   "source": [
    "print('Somthing')"
   ]
  },
  {
   "cell_type": "markdown",
   "metadata": {},
   "source": [
    "Next, create a backup dataframe incase you need to make changes but dont want to use this main dataframe. Note: The method listed bellow is not ideal for saving memory. "
   ]
  },
  {
   "cell_type": "code",
   "execution_count": 2,
   "metadata": {},
   "outputs": [],
   "source": [
    "#bkup_df = df "
   ]
  },
  {
   "cell_type": "markdown",
   "metadata": {},
   "source": [
    "We did it. Once we have our dataframe cleaned and backedup we can then move on to step #2"
   ]
  }
 ],
 "metadata": {
  "kernelspec": {
   "display_name": "Python 3",
   "language": "python",
   "name": "python3"
  },
  "language_info": {
   "codemirror_mode": {
    "name": "ipython",
    "version": 3
   },
   "file_extension": ".py",
   "mimetype": "text/x-python",
   "name": "python",
   "nbconvert_exporter": "python",
   "pygments_lexer": "ipython3",
   "version": "3.7.3"
  }
 },
 "nbformat": 4,
 "nbformat_minor": 2
}
